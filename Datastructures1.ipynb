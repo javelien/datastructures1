{
  "nbformat": 4,
  "nbformat_minor": 0,
  "metadata": {
    "colab": {
      "provenance": []
    },
    "kernelspec": {
      "name": "python3",
      "display_name": "Python 3"
    },
    "language_info": {
      "name": "python"
    }
  },
  "cells": [
    {
      "cell_type": "code",
      "execution_count": null,
      "metadata": {
        "colab": {
          "base_uri": "https://localhost:8080/"
        },
        "id": "IR8J8bB8dqJI",
        "outputId": "a00bf7d3-5bcb-43e5-9ac6-f761e080f9e1"
      },
      "outputs": [
        {
          "output_type": "stream",
          "name": "stdout",
          "text": [
            "Hello\n",
            "world!\n",
            "Hlo ol!\n",
            "!dlrow ,olleH\n"
          ]
        }
      ],
      "source": [
        "# Q1. Discuss string slicing and provide examples\n",
        "\n",
        "''' String slicing is a technique used to extract a portion of a string\n",
        " using its index values. In Python, strings are sequences of characters,\n",
        "  and each character can be accessed using its index.\n",
        "  The index starts from 0 for the first character and goes up to the\n",
        "   length of the string minus 1 for the last character.\n",
        "\n",
        "'''\n",
        "#EXAMPLES\n",
        "\n",
        "text = \"Hello, world!\"\n",
        "\n",
        "# Get the first 5 characters\n",
        "print(text[:5])  # Output: Hello\n",
        "\n",
        "# Get characters from index 7 to the end\n",
        "print(text[7:])  # Output: world!\n",
        "\n",
        "# Get every other character\n",
        "print(text[::2])  # Output: Hlo ol!\n",
        "\n",
        "# Reverse the string\n",
        "print(text[::-1])  # Output: !dlrow ,olleH"
      ]
    },
    {
      "cell_type": "code",
      "source": [
        "# Q2.  Explain the key features of lists in Python\n",
        "'''Lists are one of the most versatile and commonly used data structures in Python. Here are their key features:\n",
        "\n",
        "1. Ordered: Lists maintain the order of elements in which they are added. The element added first will have index 0, the second element will have index 1, and so on.\n",
        "\n",
        "2.Mutable: Lists are mutable, meaning you can change their contents after they are created. This includes adding, removing, or modifying elements.\n",
        "Allow Duplicates: Lists can contain duplicate elements. You can have the same value appearing multiple times in a list.\n",
        "\n",
        "3.Heterogeneous: Lists can store elements of different data types, such as integers, floats, strings, and even other lists.\n",
        "\n",
        "4.Dynamic Size: Lists can grow or shrink in size as needed. You can add or remove elements, and Python will automatically manage the memory allocation.\n",
        "\n",
        "5.Iterable: Lists are iterable, meaning you can loop through their elements using a for loop or other iteration methods.\n",
        "\n",
        "6.Indexable: You can access individual elements of a list using their index. Indexing starts from 0 for the first element.'''\n"
      ],
      "metadata": {
        "id": "8bVOqw38eId8"
      },
      "execution_count": null,
      "outputs": []
    },
    {
      "cell_type": "code",
      "source": [
        "# Q3 Describe how to access, modify, and delete elements in a list with examples\n",
        "'''Lists in Python are ordered, mutable collections of items. This means they can contain items of different data types, you can change their contents after creation,\n",
        " and their elements are indexed starting from 0.'''\n",
        " #You can access elements using their index: list_name[index].\n",
        "my_list = [1, 2, 3, 4, 5]\n",
        "print(my_list[0])  # Output: 1\n",
        "print(my_list[2])  # Output: 3\n",
        "\n",
        "# Negative indexing can access elements from the end: list_name[-index].\n",
        "print(my_list[-1])  # Output: 5\n",
        "print(my_list[-2])  # Output: 4\n",
        "#Deleting elements:\n",
        "\n",
        "#del keyword: Removes an element by index: del list_name[index].\n",
        "del my_list[2]\n",
        "print(my_list)  # Output: [1, 10, 4, 5]\n",
        "#remove() method: Removes the first occurrence of a specific value: list_name.remove(value).\n",
        "my_list.remove(4)\n",
        "print(my_list)  # Output: [1, 10, 5]\n",
        "'''pop() method: Removes and returns an element by index\n",
        " (default is the last element): list_name.pop(index).'''\n",
        "my_list.pop(1)\n",
        "print(my_list)  # Output: [1, 5]\n"
      ],
      "metadata": {
        "colab": {
          "base_uri": "https://localhost:8080/"
        },
        "id": "gUFZLUX8eIPm",
        "outputId": "5a0341a5-1cd3-4488-b1ab-49dfd9527b25"
      },
      "execution_count": null,
      "outputs": [
        {
          "output_type": "stream",
          "name": "stdout",
          "text": [
            "1\n",
            "3\n",
            "5\n",
            "4\n",
            "[1, 2, 4, 5]\n",
            "[1, 2, 5]\n",
            "[1, 5]\n"
          ]
        }
      ]
    },
    {
      "cell_type": "code",
      "source": [
        "#Q4 Compare and contrast tuples and lists with examples\n",
        "'''\n",
        "Lists:\n",
        "\n",
        "Mutable: You can change the contents of a list after it's created (add, remove, or modify elements).\n",
        "Ordered: Elements in a list are stored in a specific order, and you can access them by their index.\n",
        "Defined using square brackets: my_list = [1, 2, 3]\n",
        "Methods for modification: append(), insert(), remove(), pop(), etc.\n",
        "\n",
        "Tuples:\n",
        "\n",
        "Immutable: Once a tuple is created, you cannot change its contents.\n",
        "Ordered: Elements in a tuple are also stored in a specific order and can be accessed by index.\n",
        "Defined using parentheses: my_tuple = (1, 2, 3)\n",
        "Limited methods: Fewer methods compared to lists due to immutability.\n",
        "\n",
        "Comparison:\n",
        "\n",
        "Feature\tLists\tTuples\n",
        "\n",
        "Mutability\tMutable (can be changed)\tImmutable (cannot be changed)\n",
        "Order\tOrdered\tOrdered\n",
        "Syntax\t[element1, element2, ...]\t(element1, element2, ...)\n",
        "Methods\tMany methods for modification\tLimited methods due to immutability\n",
        "Use Cases\tStoring collections that need to change\tStoring data that should not be changed\n"
      ],
      "metadata": {
        "colab": {
          "base_uri": "https://localhost:8080/"
        },
        "id": "O5dhL4Y6eIHw",
        "outputId": "39734ee0-6352-43ab-a841-b50fb7447429"
      },
      "execution_count": null,
      "outputs": [
        {
          "output_type": "stream",
          "name": "stdout",
          "text": [
            "10\n",
            "30\n",
            "50\n",
            "[10, 25, 30, 40, 50]\n",
            "[10, 20, 40, 50]\n",
            "[10, 20, 50]\n"
          ]
        }
      ]
    },
    {
      "cell_type": "code",
      "source": [
        "# Q5 Describe the key features of sets and provide examples of their use\n",
        "#  key Features of Sets\n",
        "\n",
        "# Unordered: Sets are unordered collections of unique elements. Unlike lists or tuples, the elements in a set do not have a specific order.\n",
        "# Mutable: Sets are mutable, meaning you can add or remove elements after they are created. However, the elements themselves must be immutable (e.g., numbers, strings, tuples).\n",
        "# Unique Elements: Sets only contain unique elements. If you try to add a duplicate element, it will be ignored.\n",
        "# Mathematical Operations: Sets support various mathematical operations like union, intersection, difference, and more, making them useful for tasks involving set theory.\n",
        "# Examples of Set Use '''\n",
        "\n",
        "# Here are some examples of how sets can be used:\n",
        "\n",
        "# Removing Duplicates: Sets can be used to efficiently remove duplicate elements from a list:\n",
        "\n",
        "my_list = [1, 2, 2, 3, 4, 4, 5]\n",
        "unique_elements = set(my_list)\n",
        "print(unique_elements)  # Output: {1, 2, 3, 4, 5}\n",
        "\n",
        "# Membership Testing: Sets provide fast membership testing using the in keyword:\n",
        "\n",
        "my_set = {1, 2, 3, 4, 5}\n",
        "print(3 in my_set)  # Output: True\n",
        "print(6 in my_set)  # Output: False\n",
        "\n",
        "# Mathematical Operations: Sets can be used to perform set operations like union, intersection, and difference:\n",
        "\n",
        "set1 = {1, 2, 3}\n",
        "set2 = {3, 4, 5}\n",
        "\n",
        "union_set = set1.union(set2)  # or set1 | set2\n",
        "print(union_set)  # Output: {1, 2, 3, 4, 5}\n",
        "\n",
        "intersection_set = set1.intersection(set2)  # or set1 & set2\n",
        "print(intersection_set)  # Output: {3}\n",
        "\n",
        "difference_set = set1.difference(set2)  # or set1 - set2\n",
        "print(difference_set)  # Output:\n",
        "\n"
      ],
      "metadata": {
        "colab": {
          "base_uri": "https://localhost:8080/"
        },
        "id": "eTxZBp1keIA0",
        "outputId": "4d4305c3-7525-4ad6-c12a-36c3d2a5a425"
      },
      "execution_count": null,
      "outputs": [
        {
          "output_type": "stream",
          "name": "stdout",
          "text": [
            "{1, 2, 3, 4, 5}\n",
            "True\n",
            "False\n",
            "{1, 2, 3, 4, 5}\n",
            "{3}\n",
            "{1, 2}\n"
          ]
        }
      ]
    },
    {
      "cell_type": "code",
      "source": [
        "# Q6 Discuss the use cases of tuples and sets in Python programming\n",
        "# Use Cases of Tuples\n",
        "\n",
        "# Representing Data Records: Tuples are often used to represent records or structures where the data is fixed and should not be modified. For example, you can use a tuple to store the coordinates of a point:\n",
        "\n",
        "point = (10, 20)\n",
        "\n",
        "# Function Return Values: Functions can return multiple values as a tuple, allowing you to conveniently retrieve them:\n",
        "\n",
        "def get_name_and_age():\n",
        "  name = \"Alice\"\n",
        "  age = 30\n",
        "  return name, age\n",
        "\n",
        "name, age = get_name_and_age()\n",
        "\n",
        "# Dictionary Keys: Tuples can be used as keys in dictionaries because they are immutable, ensuring the key remains unchanged:\n",
        "\n",
        "my_dict = { (1, 2): \"value1\", (3, 4): \"value2\" }\n",
        "\n",
        "# Data Integrity: When you need to ensure that data remains constant and protected from accidental modifications, tuples provide a way to enforce immutability.\n",
        "# Use Cases of Sets\n",
        "\n",
        "'''Removing Duplicates: Sets are commonly used to remove duplicate elements from a list or other iterable, as they only store unique values.\n",
        "Membership Testing: Sets provide efficient membership testing using the in keyword, allowing you to quickly check if an element is present in the set.\n",
        "Mathematical Set Operations: Sets support various mathematical set operations like union, intersection, difference, and more, making them useful for tasks involving set theory.\n",
        "Data Validation: Sets can be used to validate data by checking if certain elements are present or absent in a dataset.'''\n"
      ],
      "metadata": {
        "colab": {
          "base_uri": "https://localhost:8080/",
          "height": 87
        },
        "id": "hhbMuxTheH5u",
        "outputId": "74230a7b-04c6-4535-bfcd-1f5e1b9300e6"
      },
      "execution_count": null,
      "outputs": [
        {
          "output_type": "execute_result",
          "data": {
            "text/plain": [
              "'Removing Duplicates: Sets are commonly used to remove duplicate elements from a list or other iterable, as they only store unique values.\\nMembership Testing: Sets provide efficient membership testing using the in keyword, allowing you to quickly check if an element is present in the set.\\nMathematical Set Operations: Sets support various mathematical set operations like union, intersection, difference, and more, making them useful for tasks involving set theory.\\nData Validation: Sets can be used to validate data by checking if certain elements are present or absent in a dataset.'"
            ],
            "application/vnd.google.colaboratory.intrinsic+json": {
              "type": "string"
            }
          },
          "metadata": {},
          "execution_count": 10
        }
      ]
    },
    {
      "cell_type": "code",
      "source": [
        "# Q7 Describe how to add, modify, and delete items in a dictionary with examples\n",
        "# Adding Items:\n",
        "\n",
        "# You can add new key-value pairs to a dictionary using the following syntax:\n",
        "\n",
        "\n",
        "my_dict = {'name': 'Alice', 'age': 30}\n",
        "my_dict['city'] = 'New York'  # Adding a new key-value pair\n",
        "print(my_dict)  # Output: {'name': 'Alice', 'age': 30, 'city': 'New York'}\n",
        "\n",
        "# Modifying Items:\n",
        "\n",
        "# To modify the value associated with an existing key, you can simply assign a new value to it:\n",
        "\n",
        "\n",
        "my_dict = {'name': 'Alice', 'age': 30}\n",
        "my_dict['age'] = 35  # Modifying the value of the 'age' key\n",
        "print(my_dict)  # Output: {'name': 'Alice', 'age': 35}\n",
        "\n",
        "# Deleting Items:\n",
        "\n",
        "# You can delete items from a dictionary using the del keyword or the pop() method:\n",
        "\n",
        "\n",
        "my_dict = {'name': 'Alice', 'age': 30, 'city': 'New York'}\n",
        "del my_dict['city']  # Deleting the key-value pair with key 'city'\n",
        "print(my_dict)  # Output: {'name': 'Alice', 'age': 30}\n",
        "\n",
        "age = my_dict.pop('age')  # Removing the key-value pair with key 'age' and storing the value in a variable\n",
        "print(my_dict)  # Output: {'name': 'Alice'}\n",
        "print(age)  # Output: 30\n",
        "\n",
        "# Reasoning:\n",
        "\n",
        "# Adding: We use the assignment operator (=) with a new key within square brackets to add a new key-value pair.\n",
        "# Modifying: We use the assignment operator (=) with an existing key within square brackets to change the associated value.\n",
        "# Deleting: del removes the key-value pair associated with the specified key, while pop() removes the key-value pair and returns the value.\n"
      ],
      "metadata": {
        "colab": {
          "base_uri": "https://localhost:8080/"
        },
        "id": "KiImf7LMeHw-",
        "outputId": "a25872ba-ce8b-4efe-d4ea-5378d1c516e4"
      },
      "execution_count": null,
      "outputs": [
        {
          "output_type": "stream",
          "name": "stdout",
          "text": [
            "{'name': 'Alice', 'age': 30, 'city': 'New York'}\n",
            "{'name': 'Alice', 'age': 35}\n",
            "{'name': 'Alice', 'age': 30}\n",
            "{'name': 'Alice'}\n",
            "30\n"
          ]
        }
      ]
    },
    {
      "cell_type": "code",
      "source": [
        "# Q8 Discuss the importance of dictionary keys being immutable and provide examples"
      ],
      "metadata": {
        "id": "mufhQ2cGeHln"
      },
      "execution_count": null,
      "outputs": []
    }
  ]
}